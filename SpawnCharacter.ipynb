{
 "cells": [
  {
   "cell_type": "code",
   "execution_count": 1,
   "metadata": {},
   "outputs": [
    {
     "name": "stdout",
     "output_type": "stream",
     "text": [
      "What would you like your character name to be?\n",
      "Evan\n",
      "Chaotic Good\n",
      "Dwarf\n",
      "Monk\n",
      "Hit Points:18\n",
      "\n",
      "ABILITY SCORES: \n",
      "Strength: 11 (0)\n",
      "Dexterity: 5 (-3)\n",
      "Wisdom: 3 (-4)\n",
      "Intelligence: 11 (0)\n",
      "Constitution: 19 (+4)\n",
      "Charisma: 8 (-1)\n",
      "\n",
      "Racial Traits:\n",
      "['Darkvision', 'Dwarven Resilience', 'Dwarven Combat Training', 'Stonecunning']\n"
     ]
    }
   ],
   "source": [
    "from my_modules import my_functions as fn\n",
    "import random\n",
    "import string\n",
    "\n",
    "class SpawnCharacter():\n",
    "    \"\"\"\n",
    "    Spawn a character!\n",
    "    \"\"\"\n",
    "    \n",
    "    def main():\n",
    "        fn.name()\n",
    "        fn.alignment()\n",
    "        fn.character_race()\n",
    "        fn.character_class()\n",
    "        fn.hit_points()\n",
    "        fn.ability_scores()\n",
    "    \n",
    "    main()"
   ]
  }
 ],
 "metadata": {
  "kernelspec": {
   "display_name": "Python 3",
   "language": "python",
   "name": "python3"
  },
  "language_info": {
   "codemirror_mode": {
    "name": "ipython",
    "version": 3
   },
   "file_extension": ".py",
   "mimetype": "text/x-python",
   "name": "python",
   "nbconvert_exporter": "python",
   "pygments_lexer": "ipython3",
   "version": "3.6.7"
  }
 },
 "nbformat": 4,
 "nbformat_minor": 2
}
